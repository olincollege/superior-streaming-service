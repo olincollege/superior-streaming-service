{
 "cells": [
  {
   "cell_type": "markdown",
   "metadata": {},
   "source": [
    "## Superior movie search\n",
    "\n",
    "This point of this project is to help a user struggling to choose a specific streaming service to watch movies.Through inputing the genre of movies the user can gets a recommendation of the 5 best streaming services with the best rated movies in that genre.\n",
    "\n",
    "The project utilises the [watchmode api](https://api.watchmode.com/docs/#title-sources) which is the most complete API for finding out what movies & shows are available on each streaming service.In this project we will be using a number of end points from the Watchmode API service:\n",
    "* We will use the `list_title` api endpoint to get the title ids of all movies in the (Netflix,Hbo,Amazon,Hulu,disney plus) streaming services\n",
    "* We will then use the `title` api endpoint to get the details of all the movies we got in step one.Step one is pivotal because it provides us with the ids of movies which we use in this step\n",
    "* We will then combine all the movies from all the 5 streaming services into one file `movie_details_list.txt` while appending every movie with a key of its `source`\n",
    "* We will then use genres to analyse  which streaming services have the best rated movies in\n",
    "    "
   ]
  },
  {
   "cell_type": "markdown",
   "metadata": {},
   "source": [
    "#                                          DATA COLLECTION\n",
    "### STEP ONE\n",
    "Our first step will be fetching movie ids from various streaming services and storing the data in text files.We will get movies ids from 5 major services(Netflix,HBO,Amazon,Hulu,Disney plus).By the end of this step we will have 5 files, each having movies from all the 5 mentioned streaming services. To achieve this we will use two functions.The `fetch_and_write_title_ids_to_file` which writes data on files.It calls the `fetch_list_title_data` function which then makes a call to the watchmode API service.Once we get the data, we then store the data in files using the `fetch_and_write_title_ids_to_file` function. The `fetch_and_write_title_ids_to_file` takes in one paremeter which is the id of the streaming source.In this case 243 is the id of Netflix streaming service on the watchmode api"
   ]
  },
  {
   "cell_type": "code",
   "execution_count": 3,
   "metadata": {},
   "outputs": [
    {
     "name": "stdout",
     "output_type": "stream",
     "text": [
      "1\n",
      "2\n",
      "3\n",
      "4\n",
      "5\n",
      "6\n",
      "7\n",
      "8\n",
      "9\n",
      "10\n",
      "11\n",
      "12\n",
      "13\n",
      "14\n",
      "15\n",
      "16\n",
      "17\n",
      "18\n",
      "19\n",
      "20\n",
      "21\n",
      "22\n",
      "23\n",
      "24\n",
      "25\n",
      "26\n",
      "27\n",
      "28\n",
      "29\n",
      "30\n",
      "31\n",
      "32\n",
      "33\n",
      "34\n",
      "1\n",
      "2\n",
      "3\n",
      "4\n",
      "5\n",
      "6\n",
      "7\n",
      "8\n",
      "9\n",
      "10\n",
      "11\n",
      "12\n",
      "13\n",
      "14\n",
      "15\n",
      "16\n",
      "17\n",
      "18\n",
      "19\n",
      "20\n",
      "21\n",
      "22\n",
      "23\n",
      "24\n",
      "25\n",
      "26\n",
      "27\n",
      "28\n",
      "29\n",
      "30\n",
      "31\n",
      "32\n",
      "33\n",
      "34\n",
      "1\n",
      "2\n",
      "3\n",
      "4\n",
      "5\n",
      "6\n",
      "7\n",
      "8\n",
      "9\n",
      "10\n",
      "11\n",
      "12\n",
      "13\n",
      "14\n",
      "15\n",
      "16\n",
      "17\n",
      "18\n",
      "19\n",
      "20\n",
      "21\n",
      "22\n",
      "23\n",
      "24\n",
      "25\n",
      "26\n",
      "27\n",
      "28\n",
      "29\n",
      "30\n",
      "31\n",
      "32\n",
      "33\n",
      "34\n",
      "1\n",
      "2\n",
      "3\n",
      "4\n",
      "5\n",
      "6\n",
      "7\n",
      "8\n",
      "9\n",
      "10\n",
      "11\n",
      "12\n",
      "13\n",
      "14\n",
      "15\n",
      "16\n",
      "17\n",
      "18\n",
      "19\n",
      "20\n",
      "21\n",
      "22\n",
      "23\n",
      "24\n",
      "25\n",
      "26\n",
      "27\n",
      "28\n",
      "29\n",
      "30\n",
      "31\n",
      "32\n",
      "33\n",
      "34\n",
      "1\n",
      "2\n",
      "3\n",
      "4\n",
      "5\n",
      "6\n",
      "7\n",
      "8\n",
      "9\n",
      "10\n",
      "11\n",
      "12\n",
      "13\n",
      "14\n",
      "15\n",
      "16\n",
      "17\n",
      "18\n",
      "19\n",
      "20\n",
      "21\n",
      "22\n",
      "23\n",
      "24\n",
      "25\n",
      "26\n",
      "27\n",
      "28\n",
      "29\n",
      "30\n",
      "31\n",
      "32\n",
      "33\n",
      "34\n"
     ]
    }
   ],
   "source": [
    "from api import fetch_list_title_data, fetch_and_write_title_ids_to_file\n",
    "\n",
    "fetch_and_write_title_ids_to_file(\"Netflix\", \"netflix.txt\")\n",
    "fetch_and_write_title_ids_to_file(\"HBO MAX\", \"hbomax.txt\")\n",
    "fetch_and_write_title_ids_to_file(\"Disney+\", \"disneyplus.txt\")\n",
    "fetch_and_write_title_ids_to_file(\"Hulu\", \"hulu.txt\")\n",
    "fetch_and_write_title_ids_to_file(\"Amazon Prime\", \"amazon.txt\")"
   ]
  },
  {
   "cell_type": "markdown",
   "metadata": {},
   "source": [
    "### Output\n",
    "While the function doesn't return anything, running it for all five sources we create the files `netflix.txt`, `hbomax.txt`,`amazon.txt`,`hulu.txt`,`disney.txt` "
   ]
  },
  {
   "cell_type": "markdown",
   "metadata": {},
   "source": [
    "### Step 2: Getting Title Details\n",
    "\n",
    "Our second step will involve getting the details of of every movie we fetched in our first step.We will use the `fetch_title_details` function. By iterating over the five files we got in our first step, we got the list of the first 200 movies from each source.The reason we choose 200 movies is because of the limitations of the the Watchmode API service. It allows 1000 requests per month from a single API key. With that in mind, we need to interate over the five files, get the title id, and then use the  Watchmode `Title` API to get the details of the title. We do 1000 iterations over the whole process and thus exhaust our api key's requests."
   ]
  },
  {
   "cell_type": "code",
   "execution_count": 1,
   "metadata": {},
   "outputs": [],
   "source": [
    "from api import save_title_details_data,fetch_title_details\n",
    "save_title_details_data(\"amazon.txt\",\"Amazon Prime\", \"amazontitles1.txt\")\n"
   ]
  },
  {
   "cell_type": "markdown",
   "metadata": {},
   "source": [
    "### Output\n",
    "The outputs are five files `amazontitles.txt`, `amazontitles.txt`,`hbotitles.txt`,`hulutitles`,`disneytitles.txt`"
   ]
  },
  {
   "cell_type": "markdown",
   "metadata": {},
   "source": [
    "### STEP THREE\n",
    "Our third step will involve combining data from all the five texts files created in step two.We will combine all the data into one text file `movie_details_list.txt`\n"
   ]
  },
  {
   "cell_type": "code",
   "execution_count": null,
   "metadata": {},
   "outputs": [],
   "source": [
    "from api import merge_files,\n",
    "\n",
    "merge_files(\"disneyplustitles.txt\", \"amazontitles.txt\", \"netflixtitles.txt\", \"hbomaxtitles.txt\", \"hulutitles.txt\")\n"
   ]
  },
  {
   "cell_type": "markdown",
   "metadata": {},
   "source": [
    "### Output\n",
    "The output is one file containing data on all the titles from all the 5 sources"
   ]
  },
  {
   "cell_type": "markdown",
   "metadata": {},
   "source": [
    "# DATA ANALYSIS\n",
    "In this step we will begin our analysis of the data we have collected above.We will write functions to analyse the best rated movies based on genre and streaming service.\n",
    "\n",
    "The first way in which we wanted to analyze the greatness of the streaming services is in how good their movies are. However, every person has a different preference in the type of movies they would like to watch, and thus ratings within some genres matter more than others. Therefore, we decided to explore the quality of each service's movies per genre. In the following code block, we created a function `get_genre_ratings`that will return the average rating for a specific genre within a specific streaming service. Then, using this function, we created a bar plot that showed the average rating for a specific genre for all of the top 5 streaming services."
   ]
  },
  {
   "cell_type": "code",
   "execution_count": null,
   "metadata": {
    "scrolled": true
   },
   "outputs": [],
   "source": [
    "import api\n",
    "\n",
    "api.bar_plot_genre_ratings(\"Horror\")"
   ]
  },
  {
   "cell_type": "markdown",
   "metadata": {},
   "source": [
    "The function `bar_plot_genre_ratings` takes the desired genre and analyzes data from that genre, therefore making it easy to personalize the data for your own priorities. For example, I tend to like action movies the most, so I searched for the streaming service that has the best action movies. The graph shows that Disney Plus tends to have better action media than the rest of the streaming services (which makes sense, given that they own Marvel and Star Wars). However, for a horror fan, Disney Plus would fall short, as they have no horror movies at all. \n",
    "\n",
    "Feel free to experiment with different genres with the above function to see which streaming service is best for your favourite genre. To see the list of valid genres, run the following code block:"
   ]
  },
  {
   "cell_type": "code",
   "execution_count": null,
   "metadata": {},
   "outputs": [],
   "source": [
    "api.genres_list()"
   ]
  },
  {
   "cell_type": "markdown",
   "metadata": {},
   "source": [
    "However, just the user ratings alone are not enough to accurately measure how good a streaming service is for that genre. Though this measures the quality of the movies in the service, it doesn't really say anything about the quantity. Thus, we made a function that would graph not only the ratings of the movies, but also how many movies of each genre each service has. After testing this function a few times, it seems like there is generally positive correlation between quantity and quality within a genre. Looking at the genre of Animation, however, can offer some insight as to why this function may be helpful. \n",
    "\n",
    "Even though Hulu has the highest rating for the genre (albeit just by a little), it only offers 5 movies/shows within the genre to watch. Disney Plus, however, has a slightly lower rating but 30 movies/shows within the genre. Therefore, though the quality alone may suggest that Hulu would be a better service for animation fans, Disney plus offers a lot more options for things to watch within the genre."
   ]
  },
  {
   "cell_type": "code",
   "execution_count": null,
   "metadata": {},
   "outputs": [],
   "source": [
    "import api\n",
    "api.scatter_plot_genre(\"Horror\")"
   ]
  },
  {
   "cell_type": "code",
   "execution_count": null,
   "metadata": {
    "scrolled": true
   },
   "outputs": [],
   "source": [
    "import api\n",
    "api.bubble_plot_genre(\"Horror\", student=True)"
   ]
  },
  {
   "cell_type": "markdown",
   "metadata": {},
   "source": [
    "However, not all streaming services cost the same. \n",
    "\n",
    "LIMITATIONS: some of these prices have other deals, such as Amazon Student has a 6 month free period before it starts charging, but these are not included in the graph"
   ]
  },
  {
   "cell_type": "code",
   "execution_count": null,
   "metadata": {},
   "outputs": [],
   "source": [
    "import api\n",
    "api.circular_barplot_prices(student=False)"
   ]
  },
  {
   "cell_type": "code",
   "execution_count": null,
   "metadata": {},
   "outputs": [],
   "source": []
  }
 ],
 "metadata": {
  "kernelspec": {
   "display_name": "Python 3",
   "language": "python",
   "name": "python3"
  },
  "language_info": {
   "codemirror_mode": {
    "name": "ipython",
    "version": 3
   },
   "file_extension": ".py",
   "mimetype": "text/x-python",
   "name": "python",
   "nbconvert_exporter": "python",
   "pygments_lexer": "ipython3",
   "version": "3.8.5"
  }
 },
 "nbformat": 4,
 "nbformat_minor": 5
}
